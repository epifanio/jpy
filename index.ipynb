{
 "cells": [
  {
   "cell_type": "markdown",
   "metadata": {},
   "source": [
    "# Marine data analysis with the Jupyter Workshop\n",
    "\n"
   ]
  },
  {
   "cell_type": "markdown",
   "metadata": {},
   "source": [
    "### Institute of Marine Research, Bergen (NO)\n",
    "\n",
    "13-16 June, 2016\n",
    "\n",
    "\n",
    "\n",
    "**Requirements:** \n",
    "Participants should bring a laptop with a few specific software packages installed (listed below). For those who have restriction in software installation on their laptop (such government laptop) please <a href=\"mailto:distefano@ccom.unh.edu?Subject=Jupyter%20Workshop\" target=\"_top\">contact us</a> in advance."
   ]
  },
  {
   "cell_type": "markdown",
   "metadata": {},
   "source": [
    "\n",
    "\n",
    "**Day 1**\n",
    "\n",
    "    - Brief introduction to the Python programming language\n",
    "    - Introduction to the Jupyter Notebook user interface\n",
    "    - Introduction to relevant complementary tools, including the UNIX Bash shell and software version control (Git)\n",
    "    - Rendering Notebooks as rich text\n",
    "    - Sharing, and exporting Notebooks in different formats (HTML, pdf, gist)\n",
    "\n",
    "**Day 2**\n",
    "\n",
    "    - Exploring the use of different languages in the Notebook (Python, R, Bash, Matlab)\n",
    "    - Data manipulation and visualization\n",
    "    - Interactive widgets\n",
    "    - Access to databases and online data resources\n",
    "    - Web mapping widgets\n",
    "    - Overview of use-cases\n",
    "         . Time series analysis of environmental data\n",
    "         . Analyzing patterns of benthic communities/species\n",
    "         . Raster data analysis\n",
    "         . Other (user defined use-cases)\n",
    "\n",
    "**Day 3** and **Day 4** \n",
    "\n",
    "    Hands-on Discuss and develop selected use-cases\n"
   ]
  },
  {
   "cell_type": "markdown",
   "metadata": {},
   "source": [
    "### Setup\n",
    "\n",
    "**Software environment**\n",
    "There are different ways to install the [Jupyter Notebook](http://jupyter.readthedocs.io/en/latest/) and all the software libraries used for this workshop. The preferred way is to use a self contained software infrastracture such as *[Anaconda Python](https://www.continuum.io/why-anaconda)* (see installation section for details on how to install it) which is available for different platform and contains all the dependencies for this workshop. In addition a modern browser such Crhome, Firefox or Safari is needed.\n",
    "\n",
    "\n",
    "**Software installation**\n",
    "\n",
    "For the purposes of this workshop we will mainly work with Python 3. \n",
    "\n",
    "Anaconda for Windows\n",
    "\n",
    "- [Download the graphical installer](http://repo.continuum.io/archive/Anaconda3-4.0.0-Windows-x86_64.exe).\n",
    "- Double-click the .exe file to install Anaconda and follow the instructions on the screen.\n",
    "\n",
    "\n",
    "Anaconda for OS X\n",
    "\n",
    "- [Download the graphical installer](http://repo.continuum.io/archive/Anaconda3-4.0.0-MacOSX-x86_64.pkg)\n",
    "- Double-click the downloaded .pkg file and follow the instructions.\n",
    "\n",
    "\n",
    "Anaconda for Linux\n",
    "\n",
    "- [Download the installer](http://repo.continuum.io/archive/Anaconda3-4.0.0-Linux-x86_64.sh)\n",
    "- In your terminal window type one of the below and follow the instructions:\n",
    "\n",
    "  ```bash Anaconda3-4.0.0-Linux-x86_64.sh```\n",
    "  \n",
    "  NOTE: Include the \"bash\" command even if you are not using the bash shell.\n",
    "    \n",
    "    \n",
    "\n",
    "Once installed a ```conda``` executable should be available in your operating system ```PATH```\n",
    "\n",
    "- To install the **R** software, at the command prompt or terminal, run:\n",
    "    \n",
    "    ```conda install -c r r-essentials```\n",
    "    \n",
    "If any problem in following the procedure described above, or any trouble. We will help you at the beginning of the workshop just make sure you downlaod the installer to save time.\n",
    "\n",
    "### Selected reference and training materials\n",
    "\n",
    "Some useful training materials for learning IPython Notebook and Jyputer\n",
    "\n",
    "Video tutorial (2014) \"[IPython in depth: high productivity interactive and parallel Python](https://www.youtube.com/watch?v=XFw1JVXKJss)\"\n",
    "\n",
    "Official [IPython user guide](http://ipython.readthedocs.io/en/stable/)\n",
    "\n",
    "Official [Jupyter user guide](http://jupyter.readthedocs.io/en/latest/content-quickstart.html#)\n",
    "\n",
    "[IPython Notebook wiki](https://github.com/ipython/ipython/wiki)\n",
    "\n",
    "\n",
    "### Other useful optional resources:\n",
    "\n",
    "[OSGeo-Live](https://live.osgeo.org/en/index.html) A fully functional linux operating system based on ```Ubuntu``` with a number of software and data preinstalled (including jupyter notebook) - available for download at:\n",
    "\n",
    "[OSGeo-live-9.5 64-bit](https://sourceforge.net/projects/osgeo-live/files/9.5/osgeo-live-9.5-amd64.iso/download)\n",
    "[OSGeo-live-9.5 32-bit](https://sourceforge.net/projects/osgeo-live/files/9.5/osgeo-live-9.5-i386.iso/download)\n",
    "\n",
    "If you wish tou use the osgeolive, you also need a virtualization environment such [VirtualBox](https://www.virtualbox.org/wiki/Downloads)\n",
    "\n"
   ]
  }
 ],
 "metadata": {
  "kernelspec": {
   "display_name": "Python 3 Sys",
   "language": "python",
   "name": "python3"
  },
  "language_info": {
   "codemirror_mode": {
    "name": "ipython",
    "version": 3
   },
   "file_extension": ".py",
   "mimetype": "text/x-python",
   "name": "python",
   "nbconvert_exporter": "python",
   "pygments_lexer": "ipython3",
   "version": "3.5.1+"
  },
  "widgets": {
   "state": {},
   "version": "1.0.0"
  }
 },
 "nbformat": 4,
 "nbformat_minor": 1
}
